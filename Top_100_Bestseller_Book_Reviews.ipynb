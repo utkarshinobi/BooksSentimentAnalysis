{
  "nbformat": 4,
  "nbformat_minor": 0,
  "metadata": {
    "colab": {
      "provenance": [],
      "mount_file_id": "1aCs3euc4xyINInTNigPo61F6BmWTYfMd",
      "authorship_tag": "ABX9TyMnq9xkZgSPW9LPt6OATRVM",
      "include_colab_link": true
    },
    "kernelspec": {
      "name": "python3",
      "display_name": "Python 3"
    },
    "language_info": {
      "name": "python"
    }
  },
  "cells": [
    {
      "cell_type": "markdown",
      "metadata": {
        "id": "view-in-github",
        "colab_type": "text"
      },
      "source": [
        "<a href=\"https://colab.research.google.com/github/utkarshinobi/BooksSentimentAnalysis/blob/Dataset-Analysis/Top_100_Bestseller_Book_Reviews.ipynb\" target=\"_parent\"><img src=\"https://colab.research.google.com/assets/colab-badge.svg\" alt=\"Open In Colab\"/></a>"
      ]
    },
    {
      "cell_type": "code",
      "source": [
        "import pandas as pd"
      ],
      "metadata": {
        "id": "rLQ_hfEV51jT"
      },
      "execution_count": null,
      "outputs": []
    },
    {
      "cell_type": "code",
      "source": [
        "df = pd.read_csv('/content/drive/MyDrive/BooksDataset/Top-100 Trending Books.csv')"
      ],
      "metadata": {
        "id": "GO5nWE4o9dKN"
      },
      "execution_count": null,
      "outputs": []
    },
    {
      "cell_type": "code",
      "source": [
        "df.columns"
      ],
      "metadata": {
        "colab": {
          "base_uri": "https://localhost:8080/"
        },
        "id": "BaKJjXZO9sb1",
        "outputId": "e25b684d-517f-4017-efad-38a653bf11a6"
      },
      "execution_count": null,
      "outputs": [
        {
          "output_type": "execute_result",
          "data": {
            "text/plain": [
              "Index(['Rank', 'book title', 'book price', 'rating', 'author',\n",
              "       'year of publication', 'genre', 'url'],\n",
              "      dtype='object')"
            ]
          },
          "metadata": {},
          "execution_count": 8
        }
      ]
    },
    {
      "cell_type": "code",
      "source": [
        "df = pd.read_csv('/content/drive/MyDrive/BooksDataset/customer reviews.csv')"
      ],
      "metadata": {
        "id": "qtWQpOQZ-XGC"
      },
      "execution_count": null,
      "outputs": []
    },
    {
      "cell_type": "code",
      "source": [
        "df.columns"
      ],
      "metadata": {
        "colab": {
          "base_uri": "https://localhost:8080/"
        },
        "id": "UBnYAPEA-bGq",
        "outputId": "ce9c0674-c48a-4e0c-a63f-ab8f6ec9e144"
      },
      "execution_count": 11,
      "outputs": [
        {
          "output_type": "execute_result",
          "data": {
            "text/plain": [
              "Index(['Sno', 'book name', 'review title', 'reviewer', 'reviewer rating',\n",
              "       'review description', 'is_verified', 'date', 'timestamp', 'ASIN'],\n",
              "      dtype='object')"
            ]
          },
          "metadata": {},
          "execution_count": 11
        }
      ]
    },
    {
      "cell_type": "code",
      "source": [],
      "metadata": {
        "id": "4xVfqF-cALDy"
      },
      "execution_count": null,
      "outputs": []
    }
  ]
}