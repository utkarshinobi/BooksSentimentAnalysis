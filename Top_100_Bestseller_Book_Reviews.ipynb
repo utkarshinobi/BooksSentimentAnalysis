{
  "nbformat": 4,
  "nbformat_minor": 0,
  "metadata": {
    "colab": {
      "provenance": [],
      "mount_file_id": "1aCs3euc4xyINInTNigPo61F6BmWTYfMd",
      "authorship_tag": "ABX9TyNzrItM7c09+Mp6VK9lN7bT",
      "include_colab_link": true
    },
    "kernelspec": {
      "name": "python3",
      "display_name": "Python 3"
    },
    "language_info": {
      "name": "python"
    }
  },
  "cells": [
    {
      "cell_type": "markdown",
      "metadata": {
        "id": "view-in-github",
        "colab_type": "text"
      },
      "source": [
        "<a href=\"https://colab.research.google.com/github/utkarshinobi/BooksSentimentAnalysis/blob/Dataset-Analysis/Top_100_Bestseller_Book_Reviews.ipynb\" target=\"_parent\"><img src=\"https://colab.research.google.com/assets/colab-badge.svg\" alt=\"Open In Colab\"/></a>"
      ]
    },
    {
      "cell_type": "markdown",
      "source": [
        "### Imports and Configurations"
      ],
      "metadata": {
        "id": "MyLwrHBAGFwI"
      }
    },
    {
      "cell_type": "code",
      "source": [
        "import pandas as pd\n",
        "import matplotlib.pyplot as plt"
      ],
      "metadata": {
        "id": "kIFQyvdVGH5D"
      },
      "execution_count": 64,
      "outputs": []
    },
    {
      "cell_type": "code",
      "source": [
        "# Set the option to display full content\n",
        "pd.set_option('display.max_colwidth', 100)"
      ],
      "metadata": {
        "id": "hknrftlnIv1m"
      },
      "execution_count": 65,
      "outputs": []
    },
    {
      "cell_type": "markdown",
      "source": [
        "### Books Dataset Analysis"
      ],
      "metadata": {
        "id": "0P1pPNOaF5V9"
      }
    },
    {
      "cell_type": "code",
      "source": [
        "books = pd.read_csv('/content/drive/MyDrive/BooksDataset/Top-100 Trending Books.csv')"
      ],
      "metadata": {
        "id": "GO5nWE4o9dKN"
      },
      "execution_count": 33,
      "outputs": []
    },
    {
      "cell_type": "code",
      "source": [
        "books.columns"
      ],
      "metadata": {
        "colab": {
          "base_uri": "https://localhost:8080/"
        },
        "id": "BaKJjXZO9sb1",
        "outputId": "7eb69be4-94fd-4192-cb3b-b2ce3de030a5"
      },
      "execution_count": 34,
      "outputs": [
        {
          "output_type": "execute_result",
          "data": {
            "text/plain": [
              "Index(['Rank', 'book title', 'book price', 'rating', 'author',\n",
              "       'year of publication', 'genre', 'url'],\n",
              "      dtype='object')"
            ]
          },
          "metadata": {},
          "execution_count": 34
        }
      ]
    },
    {
      "cell_type": "code",
      "source": [
        "books.shape"
      ],
      "metadata": {
        "colab": {
          "base_uri": "https://localhost:8080/"
        },
        "id": "n20oE61JGTIB",
        "outputId": "89063c50-b811-4793-f8ad-ad1f712b5c2f"
      },
      "execution_count": 36,
      "outputs": [
        {
          "output_type": "execute_result",
          "data": {
            "text/plain": [
              "(100, 8)"
            ]
          },
          "metadata": {},
          "execution_count": 36
        }
      ]
    },
    {
      "cell_type": "code",
      "source": [
        "len(books['url'].unique())"
      ],
      "metadata": {
        "colab": {
          "base_uri": "https://localhost:8080/"
        },
        "id": "l6KBJ4GWFggC",
        "outputId": "f85b307d-751f-4253-e9c5-65a0d8646e0b"
      },
      "execution_count": 35,
      "outputs": [
        {
          "output_type": "execute_result",
          "data": {
            "text/plain": [
              "100"
            ]
          },
          "metadata": {},
          "execution_count": 35
        }
      ]
    },
    {
      "cell_type": "code",
      "source": [
        "duplicates = books[books['book title'].duplicated(keep=False)]\n",
        "\n",
        "print(\"Values that are not unique in column 'book title':\")\n",
        "print(duplicates)"
      ],
      "metadata": {
        "colab": {
          "base_uri": "https://localhost:8080/"
        },
        "id": "p9tJqsOcGtYz",
        "outputId": "a353be23-3c38-4221-f7ba-0675fa46e0b8"
      },
      "execution_count": 48,
      "outputs": [
        {
          "output_type": "stream",
          "name": "stdout",
          "text": [
            "Values that are not unique in column 'book title':\n",
            "    Rank  \\\n",
            "10    11   \n",
            "86    87   \n",
            "\n",
            "                                                                      book title  \\\n",
            "10  The Ballad of Songbirds and Snakes (A Hunger Games Novel) (The Hunger Games)   \n",
            "86  The Ballad of Songbirds and Snakes (A Hunger Games Novel) (The Hunger Games)   \n",
            "\n",
            "    book price  rating           author  year of publication  \\\n",
            "10       10.99     4.6  Suzanne Collins                 2020   \n",
            "86       15.79     4.6  Suzanne Collins                 2020   \n",
            "\n",
            "                                                         genre  \\\n",
            "10  Adventure, War, Science fiction, Romance, Action, Thriller   \n",
            "86  Adventure, War, Science Fiction, Romance, Action, Thriller   \n",
            "\n",
            "                                                                                                                  url  \n",
            "10  amazon.com/Ballad-Songbirds-Snakes-Hunger-Games/dp/1339016575/ref=zg_bs_g_books_sccl_11/143-9831347-1043253?psc=1  \n",
            "86  amazon.com/Ballad-Songbirds-Snakes-Hunger-Games/dp/1338635174/ref=zg_bs_g_books_sccl_87/142-7825522-0098658?psc=1  \n"
          ]
        }
      ]
    },
    {
      "cell_type": "code",
      "source": [
        "print(pd.DataFrame(duplicates)['url'])"
      ],
      "metadata": {
        "colab": {
          "base_uri": "https://localhost:8080/"
        },
        "id": "DW7zYFO_H4gW",
        "outputId": "1f07b88e-1541-4b85-ce88-af710205f767"
      },
      "execution_count": 47,
      "outputs": [
        {
          "output_type": "stream",
          "name": "stdout",
          "text": [
            "10    amazon.com/Ballad-Songbirds-Snakes-Hunger-Games/dp/1339016575/ref=zg_bs_g_books_sccl_11/143-9831347-1043253?psc=1\n",
            "86    amazon.com/Ballad-Songbirds-Snakes-Hunger-Games/dp/1338635174/ref=zg_bs_g_books_sccl_87/142-7825522-0098658?psc=1\n",
            "Name: url, dtype: object\n"
          ]
        }
      ]
    },
    {
      "cell_type": "code",
      "source": [
        "# Group by 'author' and count the number of books\n",
        "author_book_count = pd.DataFrame(books.groupby('author')['book title'].count().reset_index(name='book count'))"
      ],
      "metadata": {
        "id": "97lWWWN1Qr2g"
      },
      "execution_count": 61,
      "outputs": []
    },
    {
      "cell_type": "code",
      "source": [
        "author_book_count = author_book_count[author_book_count['book count'] >1 ]"
      ],
      "metadata": {
        "id": "InNdyISdQ0OH"
      },
      "execution_count": 67,
      "outputs": []
    },
    {
      "cell_type": "code",
      "source": [
        "# Sort the authors by the number of books in descending order\n",
        "author_book_count = author_book_count.sort_values(by='book count', ascending=False)\n",
        "\n",
        "# Plotting\n",
        "plt.figure(figsize=(10, 6))\n",
        "plt.bar(author_book_count['author'], author_book_count['book count'], color='skyblue')\n",
        "plt.xlabel('Author')\n",
        "plt.ylabel('Number of Books Published')\n",
        "plt.title('Number of Books Published by Each Author')\n",
        "plt.xticks(rotation=45)\n",
        "plt.tight_layout()\n",
        "plt.show()"
      ],
      "metadata": {
        "colab": {
          "base_uri": "https://localhost:8080/",
          "height": 607
        },
        "id": "DoFdijU-Ruuu",
        "outputId": "aa35899b-0ca3-4015-9d81-83d7ca83eb87"
      },
      "execution_count": 68,
      "outputs": [
        {
          "output_type": "display_data",
          "data": {
            "text/plain": [
              "<Figure size 1000x600 with 1 Axes>"
            ],
            "image/png": "[encoded data removed]"
          },
          "metadata": {}
        }
      ]
    },
    {
      "cell_type": "code",
      "source": [
        "books.isnull().sum()"
      ],
      "metadata": {
        "colab": {
          "base_uri": "https://localhost:8080/"
        },
        "id": "wEFjukqjGfEF",
        "outputId": "f7c00953-06c7-4003-bd1b-c595717f62eb"
      },
      "execution_count": 37,
      "outputs": [
        {
          "output_type": "execute_result",
          "data": {
            "text/plain": [
              "Rank                   0\n",
              "book title             0\n",
              "book price             0\n",
              "rating                 3\n",
              "author                 0\n",
              "year of publication    0\n",
              "genre                  0\n",
              "url                    0\n",
              "dtype: int64"
            ]
          },
          "metadata": {},
          "execution_count": 37
        }
      ]
    },
    {
      "cell_type": "code",
      "source": [],
      "metadata": {
        "id": "Md6WPvHqQq_B"
      },
      "execution_count": null,
      "outputs": []
    },
    {
      "cell_type": "markdown",
      "source": [
        "#### **Notes**\n",
        "1. Books dataset with 100 books.\n",
        "  There's 1 duplicate book title - The Ballad of Songbirds and Snakes (A Hunger Games Novel) (The Hunger Games)\n",
        "  *   One is paperback\n",
        "  *   Other is hard cover.\n",
        "\n",
        "  Can analyse how the reviews differ here or merge the reviews.\n",
        "\n",
        "---\n",
        "\n"
      ],
      "metadata": {
        "id": "3SMV-3czHLP0"
      }
    },
    {
      "cell_type": "markdown",
      "source": [
        "### Review Dataset Analysis"
      ],
      "metadata": {
        "id": "WW898FFPF-9t"
      }
    },
    {
      "cell_type": "code",
      "source": [],
      "metadata": {
        "id": "MrB_AG_XQpto"
      },
      "execution_count": null,
      "outputs": []
    },
    {
      "cell_type": "code",
      "source": [
        "df = pd.read_csv('/content/drive/MyDrive/BooksDataset/customer reviews.csv')"
      ],
      "metadata": {
        "id": "qtWQpOQZ-XGC"
      },
      "execution_count": 49,
      "outputs": []
    },
    {
      "cell_type": "code",
      "source": [
        "df.columns"
      ],
      "metadata": {
        "colab": {
          "base_uri": "https://localhost:8080/"
        },
        "id": "IAa5_S8oFEDo",
        "outputId": "af217fc3-ea9a-4854-f8af-ccea3aec4d70"
      },
      "execution_count": 50,
      "outputs": [
        {
          "output_type": "execute_result",
          "data": {
            "text/plain": [
              "Index(['Sno', 'book name', 'review title', 'reviewer', 'reviewer rating',\n",
              "       'review description', 'is_verified', 'date', 'timestamp', 'ASIN'],\n",
              "      dtype='object')"
            ]
          },
          "metadata": {},
          "execution_count": 50
        }
      ]
    },
    {
      "cell_type": "code",
      "source": [
        "review_counts = df.groupby('book name')"
      ],
      "metadata": {
        "id": "4xVfqF-cALDy"
      },
      "execution_count": 53,
      "outputs": []
    },
    {
      "cell_type": "code",
      "source": [
        "review_counts.head()"
      ],
      "metadata": {
        "colab": {
          "base_uri": "https://localhost:8080/",
          "height": 979
        },
        "id": "5StTuv2IEE2L",
        "outputId": "d0e446f8-1522-4f0f-a390-da0cb4de7970"
      },
      "execution_count": 57,
      "outputs": [
        {
          "output_type": "execute_result",
          "data": {
            "text/plain": [
              "     Sno         book name  \\\n",
              "0      0   The Woman in Me   \n",
              "1      1   The Woman in Me   \n",
              "2      2   The Woman in Me   \n",
              "3      3   The Woman in Me   \n",
              "4      4   The Woman in Me   \n",
              "..   ...               ...   \n",
              "910  910  The Wonky Donkey   \n",
              "911  911  The Wonky Donkey   \n",
              "912  912  The Wonky Donkey   \n",
              "913  913  The Wonky Donkey   \n",
              "914  914  The Wonky Donkey   \n",
              "\n",
              "                                                                                            review title  \\\n",
              "0                                                       Unbelievably impressive. Her torn life on paper.   \n",
              "1                                                                             What a heartbreaking story   \n",
              "2    Britney you are so invincible! You are an inspiration and helped motivate me to be strong like you.   \n",
              "3                                                                                   Fast Read, Sad Story   \n",
              "4                                                                           Buy it, it’s worth the read!   \n",
              "..                                                                                                   ...   \n",
              "910                                                    Donkey Listen and Laugh Along - The Wonky Donkey!   \n",
              "911                                                                         Great book! Highly Recommend   \n",
              "912                                                                  Hilarious play on words and rhymes.   \n",
              "913                                                                       Great toddler/ 1st reader book   \n",
              "914                                                                                     Quality & price.   \n",
              "\n",
              "             reviewer  reviewer rating  \\\n",
              "0    Murderess Marbie                4   \n",
              "1                 L J                5   \n",
              "2               Jamie                5   \n",
              "3                 KMG                5   \n",
              "4     Stephanie Brown                5   \n",
              "..                ...              ...   \n",
              "910        Family Man                5   \n",
              "911     Shellie Rouse                5   \n",
              "912   Kindle Customer                5   \n",
              "913         K. Lehigh                5   \n",
              "914   Amazon Customer                5   \n",
              "\n",
              "                                                                                      review description  \\\n",
              "0    I'm only a third way in. Shipped lightening fast.The print quality of the book is very good. I l...   \n",
              "1    \"There have been so many times when I was scared to speak up because I was afraid somebody would...   \n",
              "2    The media could not be loaded. I personally have been in the same exact situations as some of th...   \n",
              "3    I have been a fan of Britney's music since the '00s. She is just a couple years older than me. I...   \n",
              "4    Whether or not you’re a fan, it’s a great read. Britney takes you in her world and shares her pe...   \n",
              "..                                                                                                   ...   \n",
              "910  Take a break from your dystopian novels and dive into the silly world of The Wonky Donkey. This ...   \n",
              "911  We just love this book!. I will buy more in this line..My grandbaby just loves it. We read it at...   \n",
              "912  I admit it, I saw the Scottish grandmother trying to read this book to her grandchild. I was int...   \n",
              "913  The story is hilarious! The book is made of a very nice thick cardboard. At first my granddaught...   \n",
              "914  I bought this for my great nephew who is only a few months old. But his mom got to read it to hi...   \n",
              "\n",
              "     is_verified        date                                        timestamp  \\\n",
              "0           True  26-10-2023   Reviewed in the United States October 26, 2023   \n",
              "1           True  06-11-2023   Reviewed in the United States November 6, 2023   \n",
              "2           True  01-11-2023   Reviewed in the United States November 1, 2023   \n",
              "3           True  25-10-2023   Reviewed in the United States October 25, 2023   \n",
              "4           True  01-11-2023   Reviewed in the United States November 1, 2023   \n",
              "..           ...         ...                                              ...   \n",
              "910         True  01-09-2023  Reviewed in the United States September 1, 2023   \n",
              "911         True  01-11-2023   Reviewed in the United States November 1, 2023   \n",
              "912         True  28-10-2023   Reviewed in the United States October 28, 2023   \n",
              "913         True  25-10-2023   Reviewed in the United States October 25, 2023   \n",
              "914         True  31-10-2023   Reviewed in the United States October 31, 2023   \n",
              "\n",
              "           ASIN  \n",
              "0    1668009048  \n",
              "1    1668009048  \n",
              "2    1668009048  \n",
              "3    1668009048  \n",
              "4    1668009048  \n",
              "..          ...  \n",
              "910   545261244  \n",
              "911   545261244  \n",
              "912   545261244  \n",
              "913   545261244  \n",
              "914   545261244  \n",
              "\n",
              "[455 rows x 10 columns]"
            ],
            "text/html": [
              "\n",
              "  <div id=\"df-603c1aa6-d806-45fc-9a64-8da23cd70346\" class=\"colab-df-container\">\n",
              "    <div>\n",
              "<style scoped>\n",
              "    .dataframe tbody tr th:only-of-type {\n",
              "        vertical-align: middle;\n",
              "    }\n",
              "\n",
              "    .dataframe tbody tr th {\n",
              "        vertical-align: top;\n",
              "    }\n",
              "\n",
              "    .dataframe thead th {\n",
              "        text-align: right;\n",
              "    }\n",
              "</style>\n",
              "<table border=\"1\" class=\"dataframe\">\n",
              "  <thead>\n",
              "    <tr style=\"text-align: right;\">\n",
              "      <th></th>\n",
              "      <th>Sno</th>\n",
              "      <th>book name</th>\n",
              "      <th>review title</th>\n",
              "      <th>reviewer</th>\n",
              "      <th>reviewer rating</th>\n",
              "      <th>review description</th>\n",
              "      <th>is_verified</th>\n",
              "      <th>date</th>\n",
              "      <th>timestamp</th>\n",
              "      <th>ASIN</th>\n",
              "    </tr>\n",
              "  </thead>\n",
              "  <tbody>\n",
              "    <tr>\n",
              "      <th>0</th>\n",
              "      <td>0</td>\n",
              "      <td>The Woman in Me</td>\n",
              "      <td>Unbelievably impressive. Her torn life on paper.</td>\n",
              "      <td>Murderess Marbie</td>\n",
              "      <td>4</td>\n",
              "      <td>I'm only a third way in. Shipped lightening fast.The print quality of the book is very good. I l...</td>\n",
              "      <td>True</td>\n",
              "      <td>26-10-2023</td>\n",
              "      <td>Reviewed in the United States October 26, 2023</td>\n",
              "      <td>1668009048</td>\n",
              "    </tr>\n",
              "    <tr>\n",
              "      <th>1</th>\n",
              "      <td>1</td>\n",
              "      <td>The Woman in Me</td>\n",
              "      <td>What a heartbreaking story</td>\n",
              "      <td>L J</td>\n",
              "      <td>5</td>\n",
              "      <td>\"There have been so many times when I was scared to speak up because I was afraid somebody would...</td>\n",
              "      <td>True</td>\n",
              "      <td>06-11-2023</td>\n",
              "      <td>Reviewed in the United States November 6, 2023</td>\n",
              "      <td>1668009048</td>\n",
              "    </tr>\n",
              "    <tr>\n",
              "      <th>2</th>\n",
              "      <td>2</td>\n",
              "      <td>The Woman in Me</td>\n",
              "      <td>Britney you are so invincible! You are an inspiration and helped motivate me to be strong like you.</td>\n",
              "      <td>Jamie</td>\n",
              "      <td>5</td>\n",
              "      <td>The media could not be loaded. I personally have been in the same exact situations as some of th...</td>\n",
              "      <td>True</td>\n",
              "      <td>01-11-2023</td>\n",
              "      <td>Reviewed in the United States November 1, 2023</td>\n",
              "      <td>1668009048</td>\n",
              "    </tr>\n",
              "    <tr>\n",
              "      <th>3</th>\n",
              "      <td>3</td>\n",
              "      <td>The Woman in Me</td>\n",
              "      <td>Fast Read, Sad Story</td>\n",
              "      <td>KMG</td>\n",
              "      <td>5</td>\n",
              "      <td>I have been a fan of Britney's music since the '00s. She is just a couple years older than me. I...</td>\n",
              "      <td>True</td>\n",
              "      <td>25-10-2023</td>\n",
              "      <td>Reviewed in the United States October 25, 2023</td>\n",
              "      <td>1668009048</td>\n",
              "    </tr>\n",
              "    <tr>\n",
              "      <th>4</th>\n",
              "      <td>4</td>\n",
              "      <td>The Woman in Me</td>\n",
              "      <td>Buy it, it’s worth the read!</td>\n",
              "      <td>Stephanie Brown</td>\n",
              "      <td>5</td>\n",
              "      <td>Whether or not you’re a fan, it’s a great read. Britney takes you in her world and shares her pe...</td>\n",
              "      <td>True</td>\n",
              "      <td>01-11-2023</td>\n",
              "      <td>Reviewed in the United States November 1, 2023</td>\n",
              "      <td>1668009048</td>\n",
              "    </tr>\n",
              "    <tr>\n",
              "      <th>...</th>\n",
              "      <td>...</td>\n",
              "      <td>...</td>\n",
              "      <td>...</td>\n",
              "      <td>...</td>\n",
              "      <td>...</td>\n",
              "      <td>...</td>\n",
              "      <td>...</td>\n",
              "      <td>...</td>\n",
              "      <td>...</td>\n",
              "      <td>...</td>\n",
              "    </tr>\n",
              "    <tr>\n",
              "      <th>910</th>\n",
              "      <td>910</td>\n",
              "      <td>The Wonky Donkey</td>\n",
              "      <td>Donkey Listen and Laugh Along - The Wonky Donkey!</td>\n",
              "      <td>Family Man</td>\n",
              "      <td>5</td>\n",
              "      <td>Take a break from your dystopian novels and dive into the silly world of The Wonky Donkey. This ...</td>\n",
              "      <td>True</td>\n",
              "      <td>01-09-2023</td>\n",
              "      <td>Reviewed in the United States September 1, 2023</td>\n",
              "      <td>545261244</td>\n",
              "    </tr>\n",
              "    <tr>\n",
              "      <th>911</th>\n",
              "      <td>911</td>\n",
              "      <td>The Wonky Donkey</td>\n",
              "      <td>Great book! Highly Recommend</td>\n",
              "      <td>Shellie Rouse</td>\n",
              "      <td>5</td>\n",
              "      <td>We just love this book!. I will buy more in this line..My grandbaby just loves it. We read it at...</td>\n",
              "      <td>True</td>\n",
              "      <td>01-11-2023</td>\n",
              "      <td>Reviewed in the United States November 1, 2023</td>\n",
              "      <td>545261244</td>\n",
              "    </tr>\n",
              "    <tr>\n",
              "      <th>912</th>\n",
              "      <td>912</td>\n",
              "      <td>The Wonky Donkey</td>\n",
              "      <td>Hilarious play on words and rhymes.</td>\n",
              "      <td>Kindle Customer</td>\n",
              "      <td>5</td>\n",
              "      <td>I admit it, I saw the Scottish grandmother trying to read this book to her grandchild. I was int...</td>\n",
              "      <td>True</td>\n",
              "      <td>28-10-2023</td>\n",
              "      <td>Reviewed in the United States October 28, 2023</td>\n",
              "      <td>545261244</td>\n",
              "    </tr>\n",
              "    <tr>\n",
              "      <th>913</th>\n",
              "      <td>913</td>\n",
              "      <td>The Wonky Donkey</td>\n",
              "      <td>Great toddler/ 1st reader book</td>\n",
              "      <td>K. Lehigh</td>\n",
              "      <td>5</td>\n",
              "      <td>The story is hilarious! The book is made of a very nice thick cardboard. At first my granddaught...</td>\n",
              "      <td>True</td>\n",
              "      <td>25-10-2023</td>\n",
              "      <td>Reviewed in the United States October 25, 2023</td>\n",
              "      <td>545261244</td>\n",
              "    </tr>\n",
              "    <tr>\n",
              "      <th>914</th>\n",
              "      <td>914</td>\n",
              "      <td>The Wonky Donkey</td>\n",
              "      <td>Quality &amp; price.</td>\n",
              "      <td>Amazon Customer</td>\n",
              "      <td>5</td>\n",
              "      <td>I bought this for my great nephew who is only a few months old. But his mom got to read it to hi...</td>\n",
              "      <td>True</td>\n",
              "      <td>31-10-2023</td>\n",
              "      <td>Reviewed in the United States October 31, 2023</td>\n",
              "      <td>545261244</td>\n",
              "    </tr>\n",
              "  </tbody>\n",
              "</table>\n",
              "<p>455 rows × 10 columns</p>\n",
              "</div>\n",
              "    <div class=\"colab-df-buttons\">\n",
              "\n",
              "  <div class=\"colab-df-container\">\n",
              "    <button class=\"colab-df-convert\" onclick=\"convertToInteractive('df-603c1aa6-d806-45fc-9a64-8da23cd70346')\"\n",
              "            title=\"Convert this dataframe to an interactive table.\"\n",
              "            style=\"display:none;\">\n",
              "\n",
              "  <svg xmlns=\"http://www.w3.org/2000/svg\" height=\"24px\" viewBox=\"0 -960 960 960\">\n",
              "    <path d=\"M120-120v-720h720v720H120Zm60-500h600v-160H180v160Zm220 220h160v-160H400v160Zm0 220h160v-160H400v160ZM180-400h160v-160H180v160Zm440 0h160v-160H620v160ZM180-180h160v-160H180v160Zm440 0h160v-160H620v160Z\"/>\n",
              "  </svg>\n",
              "    </button>\n",
              "\n",
              "  <style>\n",
              "    .colab-df-container {\n",
              "      display:flex;\n",
              "      gap: 12px;\n",
              "    }\n",
              "\n",
              "    .colab-df-convert {\n",
              "      background-color: #E8F0FE;\n",
              "      border: none;\n",
              "      border-radius: 50%;\n",
              "      cursor: pointer;\n",
              "      display: none;\n",
              "      fill: #1967D2;\n",
              "      height: 32px;\n",
              "      padding: 0 0 0 0;\n",
              "      width: 32px;\n",
              "    }\n",
              "\n",
              "    .colab-df-convert:hover {\n",
              "      background-color: #E2EBFA;\n",
              "      box-shadow: 0px 1px 2px rgba(60, 64, 67, 0.3), 0px 1px 3px 1px rgba(60, 64, 67, 0.15);\n",
              "      fill: #174EA6;\n",
              "    }\n",
              "\n",
              "    .colab-df-buttons div {\n",
              "      margin-bottom: 4px;\n",
              "    }\n",
              "\n",
              "    [theme=dark] .colab-df-convert {\n",
              "      background-color: #3B4455;\n",
              "      fill: #D2E3FC;\n",
              "    }\n",
              "\n",
              "    [theme=dark] .colab-df-convert:hover {\n",
              "      background-color: #434B5C;\n",
              "      box-shadow: 0px 1px 3px 1px rgba(0, 0, 0, 0.15);\n",
              "      filter: drop-shadow(0px 1px 2px rgba(0, 0, 0, 0.3));\n",
              "      fill: #FFFFFF;\n",
              "    }\n",
              "  </style>\n",
              "\n",
              "    <script>\n",
              "      const buttonEl =\n",
              "        document.querySelector('#df-603c1aa6-d806-45fc-9a64-8da23cd70346 button.colab-df-convert');\n",
              "      buttonEl.style.display =\n",
              "        google.colab.kernel.accessAllowed ? 'block' : 'none';\n",
              "\n",
              "      async function convertToInteractive(key) {\n",
              "        const element = document.querySelector('#df-603c1aa6-d806-45fc-9a64-8da23cd70346');\n",
              "        const dataTable =\n",
              "          await google.colab.kernel.invokeFunction('convertToInteractive',\n",
              "                                                    [key], {});\n",
              "        if (!dataTable) return;\n",
              "\n",
              "        const docLinkHtml = 'Like what you see? Visit the ' +\n",
              "          '<a target=\"_blank\" href=https://colab.research.google.com/notebooks/data_table.ipynb>data table notebook</a>'\n",
              "          + ' to learn more about interactive tables.';\n",
              "        element.innerHTML = '';\n",
              "        dataTable['output_type'] = 'display_data';\n",
              "        await google.colab.output.renderOutput(dataTable, element);\n",
              "        const docLink = document.createElement('div');\n",
              "        docLink.innerHTML = docLinkHtml;\n",
              "        element.appendChild(docLink);\n",
              "      }\n",
              "    </script>\n",
              "  </div>\n",
              "\n",
              "\n",
              "<div id=\"df-dc008fa2-28da-43a9-b8d9-5bec39c40581\">\n",
              "  <button class=\"colab-df-quickchart\" onclick=\"quickchart('df-dc008fa2-28da-43a9-b8d9-5bec39c40581')\"\n",
              "            title=\"Suggest charts\"\n",
              "            style=\"display:none;\">\n",
              "\n",
              "<svg xmlns=\"http://www.w3.org/2000/svg\" height=\"24px\"viewBox=\"0 0 24 24\"\n",
              "     width=\"24px\">\n",
              "    <g>\n",
              "        <path d=\"M19 3H5c-1.1 0-2 .9-2 2v14c0 1.1.9 2 2 2h14c1.1 0 2-.9 2-2V5c0-1.1-.9-2-2-2zM9 17H7v-7h2v7zm4 0h-2V7h2v10zm4 0h-2v-4h2v4z\"/>\n",
              "    </g>\n",
              "</svg>\n",
              "  </button>\n",
              "\n",
              "<style>\n",
              "  .colab-df-quickchart {\n",
              "      --bg-color: #E8F0FE;\n",
              "      --fill-color: #1967D2;\n",
              "      --hover-bg-color: #E2EBFA;\n",
              "      --hover-fill-color: #174EA6;\n",
              "      --disabled-fill-color: #AAA;\n",
              "      --disabled-bg-color: #DDD;\n",
              "  }\n",
              "\n",
              "  [theme=dark] .colab-df-quickchart {\n",
              "      --bg-color: #3B4455;\n",
              "      --fill-color: #D2E3FC;\n",
              "      --hover-bg-color: #434B5C;\n",
              "      --hover-fill-color: #FFFFFF;\n",
              "      --disabled-bg-color: #3B4455;\n",
              "      --disabled-fill-color: #666;\n",
              "  }\n",
              "\n",
              "  .colab-df-quickchart {\n",
              "    background-color: var(--bg-color);\n",
              "    border: none;\n",
              "    border-radius: 50%;\n",
              "    cursor: pointer;\n",
              "    display: none;\n",
              "    fill: var(--fill-color);\n",
              "    height: 32px;\n",
              "    padding: 0;\n",
              "    width: 32px;\n",
              "  }\n",
              "\n",
              "  .colab-df-quickchart:hover {\n",
              "    background-color: var(--hover-bg-color);\n",
              "    box-shadow: 0 1px 2px rgba(60, 64, 67, 0.3), 0 1px 3px 1px rgba(60, 64, 67, 0.15);\n",
              "    fill: var(--button-hover-fill-color);\n",
              "  }\n",
              "\n",
              "  .colab-df-quickchart-complete:disabled,\n",
              "  .colab-df-quickchart-complete:disabled:hover {\n",
              "    background-color: var(--disabled-bg-color);\n",
              "    fill: var(--disabled-fill-color);\n",
              "    box-shadow: none;\n",
              "  }\n",
              "\n",
              "  .colab-df-spinner {\n",
              "    border: 2px solid var(--fill-color);\n",
              "    border-color: transparent;\n",
              "    border-bottom-color: var(--fill-color);\n",
              "    animation:\n",
              "      spin 1s steps(1) infinite;\n",
              "  }\n",
              "\n",
              "  @keyframes spin {\n",
              "    0% {\n",
              "      border-color: transparent;\n",
              "      border-bottom-color: var(--fill-color);\n",
              "      border-left-color: var(--fill-color);\n",
              "    }\n",
              "    20% {\n",
              "      border-color: transparent;\n",
              "      border-left-color: var(--fill-color);\n",
              "      border-top-color: var(--fill-color);\n",
              "    }\n",
              "    30% {\n",
              "      border-color: transparent;\n",
              "      border-left-color: var(--fill-color);\n",
              "      border-top-color: var(--fill-color);\n",
              "      border-right-color: var(--fill-color);\n",
              "    }\n",
              "    40% {\n",
              "      border-color: transparent;\n",
              "      border-right-color: var(--fill-color);\n",
              "      border-top-color: var(--fill-color);\n",
              "    }\n",
              "    60% {\n",
              "      border-color: transparent;\n",
              "      border-right-color: var(--fill-color);\n",
              "    }\n",
              "    80% {\n",
              "      border-color: transparent;\n",
              "      border-right-color: var(--fill-color);\n",
              "      border-bottom-color: var(--fill-color);\n",
              "    }\n",
              "    90% {\n",
              "      border-color: transparent;\n",
              "      border-bottom-color: var(--fill-color);\n",
              "    }\n",
              "  }\n",
              "</style>\n",
              "\n",
              "  <script>\n",
              "    async function quickchart(key) {\n",
              "      const quickchartButtonEl =\n",
              "        document.querySelector('#' + key + ' button');\n",
              "      quickchartButtonEl.disabled = true;  // To prevent multiple clicks.\n",
              "      quickchartButtonEl.classList.add('colab-df-spinner');\n",
              "      try {\n",
              "        const charts = await google.colab.kernel.invokeFunction(\n",
              "            'suggestCharts', [key], {});\n",
              "      } catch (error) {\n",
              "        console.error('Error during call to suggestCharts:', error);\n",
              "      }\n",
              "      quickchartButtonEl.classList.remove('colab-df-spinner');\n",
              "      quickchartButtonEl.classList.add('colab-df-quickchart-complete');\n",
              "    }\n",
              "    (() => {\n",
              "      let quickchartButtonEl =\n",
              "        document.querySelector('#df-dc008fa2-28da-43a9-b8d9-5bec39c40581 button');\n",
              "      quickchartButtonEl.style.display =\n",
              "        google.colab.kernel.accessAllowed ? 'block' : 'none';\n",
              "    })();\n",
              "  </script>\n",
              "</div>\n",
              "    </div>\n",
              "  </div>\n"
            ]
          },
          "metadata": {},
          "execution_count": 57
        }
      ]
    }
  ]
}